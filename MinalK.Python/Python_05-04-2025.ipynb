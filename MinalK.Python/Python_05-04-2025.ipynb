{
 "cells": [
  {
   "cell_type": "code",
   "execution_count": 1,
   "id": "96d01177-c0ee-4aa8-b362-9246a96c9768",
   "metadata": {},
   "outputs": [
    {
     "name": "stdout",
     "output_type": "stream",
     "text": [
      "Requirement already satisfied: numpy in c:\\users\\mansi\\anaconda3\\lib\\site-packages (1.26.4)\n",
      "Note: you may need to restart the kernel to use updated packages.\n"
     ]
    }
   ],
   "source": [
    "# install numpy in python\n",
    "%pip install numpy"
   ]
  },
  {
   "cell_type": "code",
   "execution_count": 1,
   "id": "03781e0b-44ad-49da-8bc7-1be0428970ae",
   "metadata": {},
   "outputs": [
    {
     "name": "stdout",
     "output_type": "stream",
     "text": [
      "[21 22 23 24 25]\n"
     ]
    }
   ],
   "source": [
    "# inport numpy in python\n",
    "import numpy as np\n",
    "\n",
    "# create a numpy array in python\n",
    "#              0   1   2   3   4\n",
    "a = np.array([21, 22, 23, 24, 25])\n",
    "print(a)"
   ]
  },
  {
   "cell_type": "code",
   "execution_count": 3,
   "id": "b6c24c5b-5a70-4e38-a367-025db9c5168d",
   "metadata": {},
   "outputs": [
    {
     "name": "stdout",
     "output_type": "stream",
     "text": [
      "21\n",
      "22\n"
     ]
    }
   ],
   "source": [
    "# access elements in numpy array in python\n",
    "print(a[0]) # first element\n",
    "print(a[1]) # second element"
   ]
  },
  {
   "cell_type": "code",
   "execution_count": 5,
   "id": "851abda8-c178-4dd9-8947-954daddeada1",
   "metadata": {},
   "outputs": [
    {
     "name": "stdout",
     "output_type": "stream",
     "text": [
      "[21 26 23 24 25]\n"
     ]
    }
   ],
   "source": [
    "# modify elements in numpy array in python\n",
    "a[1] = 26\n",
    "print(a) # first element is modified to 100"
   ]
  },
  {
   "cell_type": "code",
   "execution_count": 7,
   "id": "7c9b2a3b-90e9-4028-98eb-5db3345ac23c",
   "metadata": {},
   "outputs": [
    {
     "name": "stdout",
     "output_type": "stream",
     "text": [
      "1.26.4\n"
     ]
    }
   ],
   "source": [
    "# cheking version of numpy in python\n",
    "print(np.__version__) # print version of numpy"
   ]
  },
  {
   "cell_type": "code",
   "execution_count": 9,
   "id": "3c8b1b4a-da7b-48dc-a652-dc2ff0409030",
   "metadata": {},
   "outputs": [
    {
     "name": "stdout",
     "output_type": "stream",
     "text": [
      "[[0. 0. 0. 0.]\n",
      " [0. 0. 0. 0.]\n",
      " [0. 0. 0. 0.]]\n"
     ]
    }
   ],
   "source": [
    "# create a numpy array with zeros in python\n",
    "a = np.zeros((3, 4)) # 3 rows and 4 columns\n",
    "print(a) # print numpy array with zeros"
   ]
  },
  {
   "cell_type": "code",
   "execution_count": 11,
   "id": "6fea2df6-dfbc-47e0-8999-dd31cde4f482",
   "metadata": {},
   "outputs": [
    {
     "name": "stdout",
     "output_type": "stream",
     "text": [
      "[[11 12 13]\n",
      " [14 15 16]\n",
      " [17 18 19]]\n"
     ]
    }
   ],
   "source": [
    "# create 2d numpy array in python\n",
    "a = np.array([[11, 12, 13], [14, 15, 16], [17, 18, 19]]) # 3 rows and 3 columns\n",
    "print(a) # print 2d numpy array"
   ]
  },
  {
   "cell_type": "code",
   "execution_count": 13,
   "id": "620ee67d-0270-4f39-aa19-3eb5ed4940e0",
   "metadata": {},
   "outputs": [
    {
     "name": "stdout",
     "output_type": "stream",
     "text": [
      "[[[11 12]\n",
      "  [13 14]]\n",
      "\n",
      " [[15 16]\n",
      "  [17 18]]]\n",
      "(2, 2, 2)\n"
     ]
    }
   ],
   "source": [
    "# create a 3d numpy array in python\n",
    "a = np.array([[[11, 12], [13, 14]], [[15, 16], [17, 18]]]) # 2 layers, 2 rows and 2 columns\n",
    "\n",
    "print(a) # print 3d numpy array\n",
    "print(a.shape) # print shape of 3d numpy array"
   ]
  },
  {
   "cell_type": "code",
   "execution_count": 15,
   "id": "e87f2cd6-d6a8-40b9-aa76-ea7a64bb2e5e",
   "metadata": {},
   "outputs": [
    {
     "name": "stdout",
     "output_type": "stream",
     "text": [
      "3\n"
     ]
    }
   ],
   "source": [
    "# check the demensions of numpy array in python\n",
    "print(a.ndim) # print number of dimensions of numpy array"
   ]
  },
  {
   "cell_type": "code",
   "execution_count": 17,
   "id": "31b758fa-cbb5-46b8-ab34-ff9e5e884862",
   "metadata": {},
   "outputs": [
    {
     "name": "stdout",
     "output_type": "stream",
     "text": [
      "[[[[11 12]\n",
      "   [13 14]]\n",
      "\n",
      "  [[15 16]\n",
      "   [17 18]]]]\n",
      "(1, 2, 2, 2)\n"
     ]
    }
   ],
   "source": [
    "# Higher-Dimensional Arrays\n",
    "# create a 4d numpy array in python\n",
    "a = np.array([[[[11, 12], [13, 14]], [[15, 16], [17, 18]]]]) # 1 layer, 2 rows and 2 columns\n",
    "print(a) # print 4d numpy array\n",
    "print(a.shape) # print shape of 4d numpy array"
   ]
  },
  {
   "cell_type": "code",
   "execution_count": 19,
   "id": "70181bfa-35eb-411b-890b-70422d1c0ce6",
   "metadata": {},
   "outputs": [
    {
     "name": "stdout",
     "output_type": "stream",
     "text": [
      "[[11 13]\n",
      " [15 17]]\n"
     ]
    }
   ],
   "source": [
    "# Ellipsis (…) Indexing\n",
    "arr_3d = np.array([[[11, 12], [13, 14]], [[15, 16], [17, 18]]])\n",
    "print(arr_3d[..., 0])  # Access the first element along the third dimension ([[1, 3], [5, 7]])"
   ]
  }
 ],
 "metadata": {
  "kernelspec": {
   "display_name": "Python [conda env:base] *",
   "language": "python",
   "name": "conda-base-py"
  },
  "language_info": {
   "codemirror_mode": {
    "name": "ipython",
    "version": 3
   },
   "file_extension": ".py",
   "mimetype": "text/x-python",
   "name": "python",
   "nbconvert_exporter": "python",
   "pygments_lexer": "ipython3",
   "version": "3.12.7"
  }
 },
 "nbformat": 4,
 "nbformat_minor": 5
}
