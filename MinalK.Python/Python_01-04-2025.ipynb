{
 "cells": [
  {
   "cell_type": "code",
   "execution_count": 1,
   "id": "30342f89-7ec1-4c77-aa49-fa2083bb56a1",
   "metadata": {},
   "outputs": [
    {
     "name": "stdout",
     "output_type": "stream",
     "text": [
      "Requirement already satisfied: pandas in c:\\users\\mansi\\anaconda3\\lib\\site-packages (2.2.2)\n",
      "Requirement already satisfied: numpy>=1.26.0 in c:\\users\\mansi\\anaconda3\\lib\\site-packages (from pandas) (1.26.4)\n",
      "Requirement already satisfied: python-dateutil>=2.8.2 in c:\\users\\mansi\\anaconda3\\lib\\site-packages (from pandas) (2.9.0.post0)\n",
      "Requirement already satisfied: pytz>=2020.1 in c:\\users\\mansi\\anaconda3\\lib\\site-packages (from pandas) (2024.1)\n",
      "Requirement already satisfied: tzdata>=2022.7 in c:\\users\\mansi\\anaconda3\\lib\\site-packages (from pandas) (2023.3)\n",
      "Requirement already satisfied: six>=1.5 in c:\\users\\mansi\\anaconda3\\lib\\site-packages (from python-dateutil>=2.8.2->pandas) (1.16.0)\n",
      "Note: you may need to restart the kernel to use updated packages.\n"
     ]
    }
   ],
   "source": [
    "# pandas in python\n",
    "# https://pandas.pydata.org/\n",
    "\n",
    "# install pandas \n",
    "%pip install pandas"
   ]
  },
  {
   "cell_type": "code",
   "execution_count": 2,
   "id": "99fba8e3-28ee-42c1-bf0a-dd646afb9698",
   "metadata": {},
   "outputs": [
    {
     "name": "stdout",
     "output_type": "stream",
     "text": [
      "0      JAVA\n",
      "1    PTYHON\n",
      "2         R\n",
      "3       SQL\n",
      "dtype: object\n"
     ]
    }
   ],
   "source": [
    "# importing pandas as pd\n",
    "import pandas as pd\n",
    "\n",
    "# Series\n",
    "# What is a series?\n",
    "# A series is a one-dimensional labeled array capabled of holding any data type\n",
    "# (integers, strings, floating point numbers, python objects, etc.)\n",
    "# The axis labels are collectively called the index.\n",
    "\n",
    "# create a series\n",
    "\n",
    "data = [\"JAVA\", \"PTYHON\", \"R\", \"SQL\"]\n",
    "\n",
    "# Create a series from a list\n",
    "\n",
    "s = pd.Series(data)\n",
    "print(s)"
   ]
  },
  {
   "cell_type": "code",
   "execution_count": 3,
   "id": "8fb17759-d1eb-447a-8e2e-134e153b11cd",
   "metadata": {},
   "outputs": [
    {
     "name": "stdout",
     "output_type": "stream",
     "text": [
      "Name    Anvi\n",
      "Age       26\n",
      "City    Pune\n",
      "dtype: object\n"
     ]
    }
   ],
   "source": [
    "# Create a series from a dictionary\n",
    "data = {\n",
    "    \"Name\": \"Anvi\",\n",
    "    \"Age\": 26,\n",
    "    \"City\": \"Pune\"\n",
    "}\n",
    "\n",
    "s = pd.Series(data)\n",
    "print(s)"
   ]
  },
  {
   "cell_type": "code",
   "execution_count": 4,
   "id": "5f3361aa-b9e9-4159-9c21-0b2ab04b60ea",
   "metadata": {},
   "outputs": [
    {
     "name": "stdout",
     "output_type": "stream",
     "text": [
      "a      JAVA\n",
      "b    PTYHON\n",
      "c         R\n",
      "d       SQL\n",
      "dtype: object\n"
     ]
    }
   ],
   "source": [
    "# Rename the index\n",
    "data = [\"JAVA\", \"PTYHON\", \"R\", \"SQL\"]\n",
    "\n",
    "s = pd.Series(data, index = [\"a\", \"b\", \"c\", \"d\"])\n",
    "print(s)"
   ]
  },
  {
   "cell_type": "code",
   "execution_count": 5,
   "id": "25c04b74-34a8-4f4a-9d8d-b07b62aea728",
   "metadata": {},
   "outputs": [
    {
     "name": "stdout",
     "output_type": "stream",
     "text": [
      "     Name  Age    City\n",
      "0    Anvi   25  Mumbai\n",
      "1   Arnav   27    Pune\n",
      "2  Milind   30  Nashik\n"
     ]
    }
   ],
   "source": [
    "# Data Frame \n",
    "\n",
    "# What is a data frame?\n",
    "# A data frame is a two-dimensional labeled data structure with columns of potentiallu different types \n",
    "# it is similar to a spreadsheet or SQL table, or a divtionary of series objects\n",
    "# the data frame has an index and columns.\n",
    "\n",
    "# Example\n",
    "data = {\n",
    "    \"Name\": [\"Anvi\",\"Arnav\",\"Milind\"],\n",
    "    \"Age\": [25, 27, 30],\n",
    "    \"City\": [\"Mumbai\", \"Pune\", \"Nashik\"]\n",
    "}\n",
    "\n",
    "df = pd.DataFrame(data)\n",
    "print(df)"
   ]
  },
  {
   "cell_type": "code",
   "execution_count": 6,
   "id": "9657d4f5-3036-4dc0-a730-0d85164fce3e",
   "metadata": {},
   "outputs": [
    {
     "name": "stdout",
     "output_type": "stream",
     "text": [
      "     Name  Age    City\n",
      "a    Anvi   25  Mumbai\n",
      "b   Arnav   27    Pune\n",
      "c  Milind   30  Nashik\n"
     ]
    }
   ],
   "source": [
    "# Add index\n",
    "data = {\n",
    "    \"Name\": [\"Anvi\",\"Arnav\",\"Milind\"],\n",
    "    \"Age\": [25, 27, 30],\n",
    "    \"City\": [\"Mumbai\", \"Pune\", \"Nashik\"]\n",
    "}\n",
    "df = pd.DataFrame(data, index = [\"a\", \"b\", \"c\"])\n",
    "print(df)\n"
   ]
  },
  {
   "cell_type": "code",
   "execution_count": 7,
   "id": "a7730242-2346-42b1-a104-eab8dfeb7cb3",
   "metadata": {},
   "outputs": [
    {
     "name": "stdout",
     "output_type": "stream",
     "text": [
      "      EmpID  Gender  Age MaritalStatus        JobLevel  Experience       Dept  \\\n",
      "0         6    Male   32       Married             Mid           7         IT   \n",
      "1        11  Female   34       Married             Mid          12    Finance   \n",
      "2        33  Female   23        Single  Intern/Fresher           1  Marketing   \n",
      "3        20  Female   29       Married          Junior           6         IT   \n",
      "4        28   Other   23        Single          Junior           1      Sales   \n",
      "...     ...     ...  ...           ...             ...         ...        ...   \n",
      "3020   2070    Male   47       Married            Lead          16  Marketing   \n",
      "3021   2072  Female   47       Married            Lead           8         IT   \n",
      "3022   2145    Male   41       Married            Lead          17         IT   \n",
      "3023   2168  Female   54       Married            Lead          16         IT   \n",
      "3024   2183  Female   44       Married            Lead          22  Marketing   \n",
      "\n",
      "        EmpType  WLB  WorkEnv  ...  SleepHours       CommuteMode  \\\n",
      "0     Full-Time    1        1  ...         7.6               Car   \n",
      "1     Full-Time    1        1  ...         7.9               Car   \n",
      "2     Full-Time    2        4  ...         6.5         Motorbike   \n",
      "3      Contract    2        2  ...         7.5  Public Transport   \n",
      "4     Part-Time    3        1  ...         4.9               Car   \n",
      "...         ...  ...      ...  ...         ...               ...   \n",
      "3020  Part-Time    1        3  ...         6.8  Public Transport   \n",
      "3021   Contract    3        1  ...         6.9               Car   \n",
      "3022  Full-Time    1        1  ...         6.1  Public Transport   \n",
      "3023  Full-Time    1        5  ...         7.7  Public Transport   \n",
      "3024  Full-Time    3        3  ...         6.2               Car   \n",
      "\n",
      "      CommuteDistance  NumCompanies TeamSize  NumReports  EduLevel  haveOT  \\\n",
      "0                  20             3       12           0  Bachelor    True   \n",
      "1                  15             4       11           0  Bachelor   False   \n",
      "2                  17             0       30           0  Bachelor    True   \n",
      "3                  13             2        9           0  Bachelor    True   \n",
      "4                  20             0        7           0  Bachelor   False   \n",
      "...               ...           ...      ...         ...       ...     ...   \n",
      "3020               15             8       28           8    Master   False   \n",
      "3021               28             8       21           8    Master    True   \n",
      "3022                9             6       23           3    Master    True   \n",
      "3023               18            10       30           7    Master    True   \n",
      "3024               10             7       29           4       PhD   False   \n",
      "\n",
      "      TrainingHoursPerYear JobSatisfaction  \n",
      "0                     33.5               5  \n",
      "1                     36.0               5  \n",
      "2                     10.5               5  \n",
      "3                     23.0               5  \n",
      "4                     20.5               5  \n",
      "...                    ...             ...  \n",
      "3020                  58.0               1  \n",
      "3021                  54.0               1  \n",
      "3022                  58.5               1  \n",
      "3023                  58.0               1  \n",
      "3024                  61.0               1  \n",
      "\n",
      "[3025 rows x 23 columns]\n"
     ]
    }
   ],
   "source": [
    "# read csv file\n",
    "\n",
    "data = pd.read_csv(\"C:/Users/mansi/Downloads/employee_survey.csv\")\n",
    "print(data)"
   ]
  },
  {
   "cell_type": "code",
   "execution_count": 8,
   "id": "102d2ca1-a92a-45a7-bf1e-35492bd1cb4e",
   "metadata": {},
   "outputs": [
    {
     "name": "stdout",
     "output_type": "stream",
     "text": [
      "   EmpID  Gender  Age MaritalStatus        JobLevel  Experience       Dept  \\\n",
      "0      6    Male   32       Married             Mid           7         IT   \n",
      "1     11  Female   34       Married             Mid          12    Finance   \n",
      "2     33  Female   23        Single  Intern/Fresher           1  Marketing   \n",
      "3     20  Female   29       Married          Junior           6         IT   \n",
      "4     28   Other   23        Single          Junior           1      Sales   \n",
      "\n",
      "     EmpType  WLB  WorkEnv  ...  SleepHours       CommuteMode  \\\n",
      "0  Full-Time    1        1  ...         7.6               Car   \n",
      "1  Full-Time    1        1  ...         7.9               Car   \n",
      "2  Full-Time    2        4  ...         6.5         Motorbike   \n",
      "3   Contract    2        2  ...         7.5  Public Transport   \n",
      "4  Part-Time    3        1  ...         4.9               Car   \n",
      "\n",
      "   CommuteDistance  NumCompanies TeamSize  NumReports  EduLevel  haveOT  \\\n",
      "0               20             3       12           0  Bachelor    True   \n",
      "1               15             4       11           0  Bachelor   False   \n",
      "2               17             0       30           0  Bachelor    True   \n",
      "3               13             2        9           0  Bachelor    True   \n",
      "4               20             0        7           0  Bachelor   False   \n",
      "\n",
      "   TrainingHoursPerYear JobSatisfaction  \n",
      "0                  33.5               5  \n",
      "1                  36.0               5  \n",
      "2                  10.5               5  \n",
      "3                  23.0               5  \n",
      "4                  20.5               5  \n",
      "\n",
      "[5 rows x 23 columns]\n"
     ]
    }
   ],
   "source": [
    "# Print the first five rows\n",
    "\n",
    "\n",
    "\n",
    "print(data.head())"
   ]
  },
  {
   "cell_type": "code",
   "execution_count": 9,
   "id": "01560477-84c6-4db9-9d8b-08cad46fdf3e",
   "metadata": {},
   "outputs": [
    {
     "name": "stdout",
     "output_type": "stream",
     "text": [
      "(3025, 23)\n"
     ]
    }
   ],
   "source": [
    "# Find the shape of the data frame\n",
    "print(data.shape)"
   ]
  },
  {
   "cell_type": "code",
   "execution_count": 10,
   "id": "039a71d7-b76f-4c54-ab33-6f69f79d2931",
   "metadata": {},
   "outputs": [
    {
     "name": "stdout",
     "output_type": "stream",
     "text": [
      "Index(['EmpID', 'Gender', 'Age', 'MaritalStatus', 'JobLevel', 'Experience',\n",
      "       'Dept', 'EmpType', 'WLB', 'WorkEnv', 'PhysicalActivityHours',\n",
      "       'Workload', 'Stress', 'SleepHours', 'CommuteMode', 'CommuteDistance',\n",
      "       'NumCompanies', 'TeamSize', 'NumReports', 'EduLevel', 'haveOT',\n",
      "       'TrainingHoursPerYear', 'JobSatisfaction'],\n",
      "      dtype='object')\n"
     ]
    }
   ],
   "source": [
    "# Get all columns name\n",
    "print(data.columns)"
   ]
  },
  {
   "cell_type": "code",
   "execution_count": 11,
   "id": "853d256d-a786-44f5-9460-de468b0784f7",
   "metadata": {},
   "outputs": [
    {
     "name": "stdout",
     "output_type": "stream",
     "text": [
      "             EmpID          Age   Experience          WLB      WorkEnv  \\\n",
      "count  3025.000000  3025.000000  3025.000000  3025.000000  3025.000000   \n",
      "mean   1513.000000    35.741818     9.082645     3.061157     3.029091   \n",
      "std     873.386608    10.191833     7.073344     1.447001     1.415317   \n",
      "min       1.000000    22.000000     0.000000     1.000000     1.000000   \n",
      "25%     757.000000    27.000000     3.000000     2.000000     2.000000   \n",
      "50%    1513.000000    34.000000     8.000000     3.000000     3.000000   \n",
      "75%    2269.000000    43.000000    14.000000     4.000000     4.000000   \n",
      "max    3025.000000    60.000000    29.000000     5.000000     5.000000   \n",
      "\n",
      "       PhysicalActivityHours     Workload       Stress   SleepHours  \\\n",
      "count            3025.000000  3025.000000  3025.000000  3025.000000   \n",
      "mean                2.029620     2.966612     1.736529     7.005983   \n",
      "std                 0.966014     1.401486     1.064242     1.002652   \n",
      "min                 0.000000     1.000000     1.000000     4.000000   \n",
      "25%                 1.300000     2.000000     1.000000     6.300000   \n",
      "50%                 2.000000     3.000000     1.000000     7.000000   \n",
      "75%                 2.700000     4.000000     2.000000     7.700000   \n",
      "max                 5.000000     5.000000     5.000000    10.000000   \n",
      "\n",
      "       CommuteDistance  NumCompanies     TeamSize   NumReports  \\\n",
      "count      3025.000000   3025.000000  3025.000000  3025.000000   \n",
      "mean         13.473719      4.253554    16.516033     2.383140   \n",
      "std           8.395249      3.382501     6.638419     3.058131   \n",
      "min           1.000000      0.000000     5.000000     0.000000   \n",
      "25%           6.000000      1.000000    11.000000     0.000000   \n",
      "50%          13.000000      4.000000    16.000000     0.000000   \n",
      "75%          21.000000      7.000000    22.000000     5.000000   \n",
      "max          29.000000     12.000000    30.000000     9.000000   \n",
      "\n",
      "       TrainingHoursPerYear  JobSatisfaction  \n",
      "count           3025.000000      3025.000000  \n",
      "mean              37.301653         3.386777  \n",
      "std               13.569772         1.260599  \n",
      "min               10.000000         1.000000  \n",
      "25%               23.500000         3.000000  \n",
      "50%               40.000000         4.000000  \n",
      "75%               46.500000         4.000000  \n",
      "max               64.500000         5.000000  \n"
     ]
    }
   ],
   "source": [
    "print(data.describe())"
   ]
  },
  {
   "cell_type": "code",
   "execution_count": 12,
   "id": "63fbe194-421a-4dd7-b38a-63f36af347b9",
   "metadata": {},
   "outputs": [
    {
     "name": "stdout",
     "output_type": "stream",
     "text": [
      "EmpID                      int64\n",
      "Gender                    object\n",
      "Age                        int64\n",
      "MaritalStatus             object\n",
      "JobLevel                  object\n",
      "Experience                 int64\n",
      "Dept                      object\n",
      "EmpType                   object\n",
      "WLB                        int64\n",
      "WorkEnv                    int64\n",
      "PhysicalActivityHours    float64\n",
      "Workload                   int64\n",
      "Stress                     int64\n",
      "SleepHours               float64\n",
      "CommuteMode               object\n",
      "CommuteDistance            int64\n",
      "NumCompanies               int64\n",
      "TeamSize                   int64\n",
      "NumReports                 int64\n",
      "EduLevel                  object\n",
      "haveOT                      bool\n",
      "TrainingHoursPerYear     float64\n",
      "JobSatisfaction            int64\n",
      "dtype: object\n"
     ]
    }
   ],
   "source": [
    "# Get the data types of each column\n",
    "print(data.dtypes)"
   ]
  },
  {
   "cell_type": "code",
   "execution_count": 13,
   "id": "cc3c79e2-457e-42b6-8b4e-0e2d37f3a57a",
   "metadata": {},
   "outputs": [
    {
     "name": "stdout",
     "output_type": "stream",
     "text": [
      "0                  Mid\n",
      "1                  Mid\n",
      "2       Intern/Fresher\n",
      "3               Junior\n",
      "4               Junior\n",
      "             ...      \n",
      "3020              Lead\n",
      "3021              Lead\n",
      "3022              Lead\n",
      "3023              Lead\n",
      "3024              Lead\n",
      "Name: JobLevel, Length: 3025, dtype: object 0        7\n",
      "1       12\n",
      "2        1\n",
      "3        6\n",
      "4        1\n",
      "        ..\n",
      "3020    16\n",
      "3021     8\n",
      "3022    17\n",
      "3023    16\n",
      "3024    22\n",
      "Name: Experience, Length: 3025, dtype: int64\n"
     ]
    }
   ],
   "source": [
    "# Get specific column\n",
    "print(data[\"JobLevel\"], data[\"Experience\"])"
   ]
  },
  {
   "cell_type": "code",
   "execution_count": 14,
   "id": "6a6bced3-e635-48a8-816d-5d80348a8b8c",
   "metadata": {},
   "outputs": [
    {
     "name": "stdout",
     "output_type": "stream",
     "text": [
      "EmpID                            45\n",
      "Gender                       Female\n",
      "Age                              33\n",
      "MaritalStatus               Married\n",
      "JobLevel                        Mid\n",
      "Experience                       10\n",
      "Dept                     Operations\n",
      "EmpType                   Part-Time\n",
      "WLB                               2\n",
      "WorkEnv                           3\n",
      "PhysicalActivityHours           1.4\n",
      "Workload                          4\n",
      "Stress                            2\n",
      "SleepHours                      6.2\n",
      "CommuteMode                     Car\n",
      "CommuteDistance                   8\n",
      "NumCompanies                      3\n",
      "TeamSize                         13\n",
      "NumReports                        0\n",
      "EduLevel                   Bachelor\n",
      "haveOT                        False\n",
      "TrainingHoursPerYear           35.0\n",
      "JobSatisfaction                   5\n",
      "Name: 5, dtype: object\n"
     ]
    }
   ],
   "source": [
    "# Get specific row\n",
    "print(data.iloc[5])"
   ]
  },
  {
   "cell_type": "code",
   "execution_count": 15,
   "id": "22396174-6a3b-42a8-a8ad-247451bf47f0",
   "metadata": {},
   "outputs": [
    {
     "name": "stdout",
     "output_type": "stream",
     "text": [
      "Single\n"
     ]
    }
   ],
   "source": [
    "# Get specific row and column\n",
    "print(data.iloc[7, 3])"
   ]
  },
  {
   "cell_type": "code",
   "execution_count": 16,
   "id": "125bf006-95f9-4e59-9385-c4161b447b9f",
   "metadata": {},
   "outputs": [],
   "source": [
    "# Find the employee with age more than 30\n",
    "\n",
    "new_data = data[data[\"Age\"] > 30]\n",
    "\n",
    "# Write the new data to a csv file\n",
    "new_data.to_csv(\"C:/Users/mansi/Downloads/new_employee_survey.csv\")"
   ]
  },
  {
   "cell_type": "code",
   "execution_count": 17,
   "id": "852a11d8-4b6e-47a1-a4b4-af165895c2dc",
   "metadata": {},
   "outputs": [
    {
     "name": "stdout",
     "output_type": "stream",
     "text": [
      "EmpID                      int64\n",
      "Gender                    object\n",
      "Age                        int64\n",
      "MaritalStatus             object\n",
      "JobLevel                  object\n",
      "Experience                 int64\n",
      "Dept                      object\n",
      "EmpType                   object\n",
      "WLB                        int64\n",
      "WorkEnv                    int64\n",
      "PhysicalActivityHours    float64\n",
      "Workload                   int64\n",
      "Stress                     int64\n",
      "SleepHours               float64\n",
      "CommuteMode               object\n",
      "CommuteDistance            int64\n",
      "NumCompanies               int64\n",
      "TeamSize                   int64\n",
      "NumReports                 int64\n",
      "EduLevel                  object\n",
      "haveOT                      bool\n",
      "TrainingHoursPerYear     float64\n",
      "JobSatisfaction            int64\n",
      "dtype: object\n"
     ]
    }
   ],
   "source": [
    "# check the data types of each column\n",
    "print(data.dtypes)"
   ]
  },
  {
   "cell_type": "code",
   "execution_count": 18,
   "id": "fd5b323a-d599-4908-8ad1-88132dea945f",
   "metadata": {},
   "outputs": [
    {
     "name": "stdout",
     "output_type": "stream",
     "text": [
      "      EmpID  Gender  Age MaritalStatus JobLevel  Experience              Dept  \\\n",
      "0         6    Male   32       Married      Mid           7                IT   \n",
      "1        11  Female   34       Married      Mid          12           Finance   \n",
      "5        45  Female   33       Married      Mid          10        Operations   \n",
      "10       18    Male   40        Single      Mid          14  Customer Service   \n",
      "13      108  Female   35       Married   Senior          12           Finance   \n",
      "...     ...     ...  ...           ...      ...         ...               ...   \n",
      "3020   2070    Male   47       Married     Lead          16         Marketing   \n",
      "3021   2072  Female   47       Married     Lead           8                IT   \n",
      "3022   2145    Male   41       Married     Lead          17                IT   \n",
      "3023   2168  Female   54       Married     Lead          16                IT   \n",
      "3024   2183  Female   44       Married     Lead          22         Marketing   \n",
      "\n",
      "        EmpType  WLB  WorkEnv  ...  SleepHours       CommuteMode  \\\n",
      "0     Full-Time    1        1  ...         7.6               Car   \n",
      "1     Full-Time    1        1  ...         7.9               Car   \n",
      "5     Part-Time    2        3  ...         6.2               Car   \n",
      "10    Full-Time    5        5  ...         6.3               Car   \n",
      "13    Full-Time    5        3  ...         6.8  Public Transport   \n",
      "...         ...  ...      ...  ...         ...               ...   \n",
      "3020  Part-Time    1        3  ...         6.8  Public Transport   \n",
      "3021   Contract    3        1  ...         6.9               Car   \n",
      "3022  Full-Time    1        1  ...         6.1  Public Transport   \n",
      "3023  Full-Time    1        5  ...         7.7  Public Transport   \n",
      "3024  Full-Time    3        3  ...         6.2               Car   \n",
      "\n",
      "      CommuteDistance  NumCompanies TeamSize  NumReports  EduLevel  haveOT  \\\n",
      "0                  20             3       12           0  Bachelor    True   \n",
      "1                  15             4       11           0  Bachelor   False   \n",
      "5                   8             3       13           0  Bachelor   False   \n",
      "10                  8             6       11           0  Bachelor   False   \n",
      "13                 11             4       21           2  Bachelor   False   \n",
      "...               ...           ...      ...         ...       ...     ...   \n",
      "3020               15             8       28           8    Master   False   \n",
      "3021               28             8       21           8    Master    True   \n",
      "3022                9             6       23           3    Master    True   \n",
      "3023               18            10       30           7    Master    True   \n",
      "3024               10             7       29           4       PhD   False   \n",
      "\n",
      "      TrainingHoursPerYear JobSatisfaction  \n",
      "0                     33.5               5  \n",
      "1                     36.0               5  \n",
      "5                     35.0               5  \n",
      "10                    37.0               5  \n",
      "13                    46.0               5  \n",
      "...                    ...             ...  \n",
      "3020                  58.0               1  \n",
      "3021                  54.0               1  \n",
      "3022                  58.5               1  \n",
      "3023                  58.0               1  \n",
      "3024                  61.0               1  \n",
      "\n",
      "[1914 rows x 23 columns]\n"
     ]
    }
   ],
   "source": [
    "print(new_data)"
   ]
  },
  {
   "cell_type": "code",
   "execution_count": 19,
   "id": "e09ac5e0-255e-4a83-844b-d6844750c492",
   "metadata": {},
   "outputs": [],
   "source": [
    "#data[\"JoiningYear\"] = pd.to_datetime(data[\"JoiningYear\"], format=\"%Y\")\n",
    "#print(data)"
   ]
  },
  {
   "cell_type": "code",
   "execution_count": 20,
   "id": "5b83e070-a9ae-4953-9daa-42ae755d0289",
   "metadata": {},
   "outputs": [
    {
     "name": "stdout",
     "output_type": "stream",
     "text": [
      "EmpID                      int64\n",
      "Gender                    object\n",
      "Age                        int64\n",
      "MaritalStatus             object\n",
      "JobLevel                  object\n",
      "Experience                 int64\n",
      "Dept                      object\n",
      "EmpType                   object\n",
      "WLB                        int64\n",
      "WorkEnv                    int64\n",
      "PhysicalActivityHours    float64\n",
      "Workload                   int64\n",
      "Stress                     int64\n",
      "SleepHours               float64\n",
      "CommuteMode               object\n",
      "CommuteDistance            int64\n",
      "NumCompanies               int64\n",
      "TeamSize                   int64\n",
      "NumReports                 int64\n",
      "EduLevel                  object\n",
      "haveOT                      bool\n",
      "TrainingHoursPerYear     float64\n",
      "JobSatisfaction            int64\n",
      "dtype: object\n"
     ]
    }
   ],
   "source": [
    "print(data.dtypes)"
   ]
  }
 ],
 "metadata": {
  "kernelspec": {
   "display_name": "Python [conda env:base] *",
   "language": "python",
   "name": "conda-base-py"
  },
  "language_info": {
   "codemirror_mode": {
    "name": "ipython",
    "version": 3
   },
   "file_extension": ".py",
   "mimetype": "text/x-python",
   "name": "python",
   "nbconvert_exporter": "python",
   "pygments_lexer": "ipython3",
   "version": "3.12.7"
  }
 },
 "nbformat": 4,
 "nbformat_minor": 5
}
