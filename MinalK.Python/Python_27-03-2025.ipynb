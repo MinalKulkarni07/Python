{
 "cells": [
  {
   "cell_type": "code",
   "execution_count": 1,
   "id": "8aec916d-cada-4d0b-978a-c722790d8590",
   "metadata": {},
   "outputs": [],
   "source": [
    "# key = value\n",
    "# name = joy\n",
    "\n",
    "# dict = {key1: value1, key2: value2, key3: value3}\n",
    "\n",
    "# Dictionary is a collection of key-value pairs\n",
    "# Dictionary is mutable\n",
    "# Dictionary is unordered\n",
    "# Dictionary is indexed"
   ]
  },
  {
   "cell_type": "code",
   "execution_count": 2,
   "id": "90328a0f-8868-4595-b243-abf936290093",
   "metadata": {},
   "outputs": [
    {
     "name": "stdout",
     "output_type": "stream",
     "text": [
      "{'Name': 'Anvi', 'Age': '22', 'City': 'Pune'}\n"
     ]
    }
   ],
   "source": [
    "data = {'Name':'Anvi', 'Age':'22', 'City':'Pune'}\n",
    "print(data)"
   ]
  },
  {
   "cell_type": "code",
   "execution_count": 3,
   "id": "b8e87f2b-1294-43f3-b8de-574c02da4f17",
   "metadata": {},
   "outputs": [
    {
     "name": "stdout",
     "output_type": "stream",
     "text": [
      "Anvi\n"
     ]
    }
   ],
   "source": [
    "# Access the items of a dictionary\n",
    "print(data['Name'])"
   ]
  },
  {
   "cell_type": "code",
   "execution_count": 4,
   "id": "3f4ecb93-eeb7-4c8d-a363-0807edc636e6",
   "metadata": {},
   "outputs": [
    {
     "name": "stdout",
     "output_type": "stream",
     "text": [
      "dict_keys(['Name', 'Age', 'City'])\n"
     ]
    }
   ],
   "source": [
    "# Get all keys of a dictionary\n",
    "print(data.keys())"
   ]
  },
  {
   "cell_type": "code",
   "execution_count": 5,
   "id": "ee4f475c-d12d-43c5-9de5-4c2f732a208a",
   "metadata": {},
   "outputs": [
    {
     "name": "stdout",
     "output_type": "stream",
     "text": [
      "dict_values(['Anvi', '22', 'Pune'])\n"
     ]
    }
   ],
   "source": [
    "# Get all values of a dictionary\n",
    "print(data.values())"
   ]
  },
  {
   "cell_type": "code",
   "execution_count": 6,
   "id": "9205e685-0a8d-4f0e-b83a-56573f6624ba",
   "metadata": {},
   "outputs": [
    {
     "name": "stdout",
     "output_type": "stream",
     "text": [
      "Pune\n"
     ]
    }
   ],
   "source": [
    "# Get data from keys\n",
    "print(data.get('City'))"
   ]
  },
  {
   "cell_type": "code",
   "execution_count": 7,
   "id": "7bb79f8b-c9d6-4627-83c5-7eced5a647aa",
   "metadata": {},
   "outputs": [
    {
     "name": "stdout",
     "output_type": "stream",
     "text": [
      "dict_items([('Name', 'Anvi'), ('Age', '22'), ('City', 'Pune')])\n"
     ]
    }
   ],
   "source": [
    "# Get all data from using items() method\n",
    "print(data.items())"
   ]
  },
  {
   "cell_type": "code",
   "execution_count": 8,
   "id": "dee551fd-7114-4240-9f6e-f71e141abcf2",
   "metadata": {},
   "outputs": [
    {
     "name": "stdout",
     "output_type": "stream",
     "text": [
      "{'Name': 'Anvi', 'Age': 25, 'City': 'Pune'}\n"
     ]
    }
   ],
   "source": [
    "# Update value of a dictionary\n",
    "data['Age'] = 25\n",
    "print(data)"
   ]
  },
  {
   "cell_type": "code",
   "execution_count": 9,
   "id": "66fc38e0-3622-40c5-9169-b46a3ce3dc30",
   "metadata": {},
   "outputs": [
    {
     "name": "stdout",
     "output_type": "stream",
     "text": [
      "{'Name': 'Anvi', 'Age': 25, 'City': 'Pune', 'country': 'India'}\n"
     ]
    }
   ],
   "source": [
    "# Addnew key-value pair in a dictionary\n",
    "data['country'] = 'India'\n",
    "print(data)"
   ]
  },
  {
   "cell_type": "code",
   "execution_count": 10,
   "id": "c63e1fdb-acea-4792-8862-e6726fe6e663",
   "metadata": {},
   "outputs": [
    {
     "name": "stdout",
     "output_type": "stream",
     "text": [
      "{'Name': 'Anvi', 'Age': 25, 'country': 'India'}\n"
     ]
    }
   ],
   "source": [
    "# Delete a key-value pair from a dictionary\n",
    "del data['City']\n",
    "print(data)"
   ]
  },
  {
   "cell_type": "code",
   "execution_count": 11,
   "id": "828ae83e-e62a-4ad8-b243-ecfd5857f22b",
   "metadata": {},
   "outputs": [
    {
     "name": "stdout",
     "output_type": "stream",
     "text": [
      "Name = Anvi\n",
      "Age = 25\n",
      "country = India\n"
     ]
    }
   ],
   "source": [
    "# Iterate through a dictionary\n",
    "# Fetch data from loop\n",
    "for i in data:\n",
    "    print(i,'=', data[i])"
   ]
  },
  {
   "cell_type": "code",
   "execution_count": 12,
   "id": "ce05e103-0592-4010-aea5-0439940ff868",
   "metadata": {},
   "outputs": [
    {
     "name": "stdout",
     "output_type": "stream",
     "text": [
      "Name = Anvi\n",
      "Age = 25\n",
      "country = India\n"
     ]
    }
   ],
   "source": [
    "# Fetch data from items() method\n",
    "for key, value in data.items():\n",
    "    print(key,'=',value)"
   ]
  },
  {
   "cell_type": "code",
   "execution_count": 13,
   "id": "74a3e893-0df4-432f-8206-32c9804a843e",
   "metadata": {},
   "outputs": [
    {
     "name": "stdout",
     "output_type": "stream",
     "text": [
      "True\n",
      "False\n"
     ]
    }
   ],
   "source": [
    "# check if a key exists in a dictionary\n",
    "\n",
    "print('Age' in data)\n",
    "print('City' in data)"
   ]
  },
  {
   "cell_type": "code",
   "execution_count": 14,
   "id": "5a77d9db-d3bf-4977-a30c-46d2789866fe",
   "metadata": {},
   "outputs": [
    {
     "name": "stdout",
     "output_type": "stream",
     "text": [
      "My Name is :  Anvi\n",
      "My Age is :  22\n",
      "My Height is :  5\n"
     ]
    }
   ],
   "source": [
    "# Format using in String\n",
    "\n",
    "Name = 'Anvi'\n",
    "Age = 22\n",
    "Height = 5\n",
    "\n",
    "print('My Name is : ',Name)\n",
    "print('My Age is : ',Age)\n",
    "print('My Height is : ',Height)"
   ]
  },
  {
   "cell_type": "code",
   "execution_count": 15,
   "id": "6c9baf01-05e9-4fcf-8edc-5423b550112c",
   "metadata": {},
   "outputs": [
    {
     "name": "stdout",
     "output_type": "stream",
     "text": [
      "My Name is  Anvi Age is  22 Height is  5\n"
     ]
    }
   ],
   "source": [
    "print('My Name is ',Name,'Age is ',Age,'Height is ',Height)"
   ]
  },
  {
   "cell_type": "code",
   "execution_count": 16,
   "id": "5c89557c-56ce-4036-bd90-93afbf6d167d",
   "metadata": {},
   "outputs": [
    {
     "name": "stdout",
     "output_type": "stream",
     "text": [
      "My name is Anvi,age is 22 and height is 5.\n"
     ]
    }
   ],
   "source": [
    "print(f'My name is {Name},age is {Age} and height is {Height}.')"
   ]
  },
  {
   "cell_type": "code",
   "execution_count": 17,
   "id": "21a9b27a-a397-4432-bf45-b3a61147b79a",
   "metadata": {},
   "outputs": [
    {
     "name": "stdout",
     "output_type": "stream",
     "text": [
      "Name = Anvi\n",
      "Age = 25\n",
      "country = India\n"
     ]
    }
   ],
   "source": [
    "for key, value in data.items():\n",
    "    print(f'{key} = {value}')"
   ]
  },
  {
   "cell_type": "code",
   "execution_count": 18,
   "id": "fe295c58-597a-4ed6-8466-e4fd7cb23bca",
   "metadata": {},
   "outputs": [
    {
     "name": "stdin",
     "output_type": "stream",
     "text": [
      "Enter Your Name :  Anci\n",
      "Enter Your Age :  22\n",
      "Enter Your City :  Pune\n"
     ]
    },
    {
     "name": "stdout",
     "output_type": "stream",
     "text": [
      "{'Name': 'Anci', 'Age': '22', 'City': 'Pune'}\n"
     ]
    }
   ],
   "source": [
    "# how to take user input and store in a dictionary\n",
    "\n",
    "# step 1 : create a dictionary\n",
    "# step 2 : take user input\n",
    "# step 3 : store the input in the dictionary\n",
    "# step 4 : print the dictionary\n",
    "data = {}\n",
    "\n",
    "Name = input('Enter Your Name : ')\n",
    "Age = input('Enter Your Age : ')\n",
    "City = input('Enter Your City : ')\n",
    "\n",
    "data['Name'] = Name\n",
    "data['Age'] = Age\n",
    "data['City'] = City\n",
    "\n",
    "print(data)"
   ]
  }
 ],
 "metadata": {
  "kernelspec": {
   "display_name": "Python [conda env:base] *",
   "language": "python",
   "name": "conda-base-py"
  },
  "language_info": {
   "codemirror_mode": {
    "name": "ipython",
    "version": 3
   },
   "file_extension": ".py",
   "mimetype": "text/x-python",
   "name": "python",
   "nbconvert_exporter": "python",
   "pygments_lexer": "ipython3",
   "version": "3.12.7"
  }
 },
 "nbformat": 4,
 "nbformat_minor": 5
}
