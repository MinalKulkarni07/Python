{
 "cells": [
  {
   "cell_type": "markdown",
   "id": "7b2e8bd4",
   "metadata": {},
   "source": [
    "### 1.Data Cleaning And Preparation"
   ]
  },
  {
   "cell_type": "markdown",
   "id": "67852936-78b7-4aa6-ae09-8e9614e5e020",
   "metadata": {},
   "source": [
    "##### a.Load the dataset into a Pandas DataFrame and display the first five rows."
   ]
  },
  {
   "cell_type": "code",
   "execution_count": 1,
   "id": "5fe62db3-3ab9-4274-b79b-9e5a20fc45e2",
   "metadata": {},
   "outputs": [
    {
     "name": "stdout",
     "output_type": "stream",
     "text": [
      "   Order ID     Product     Category  Quantity Ordered  Price Each  \\\n",
      "0         1      Laptop  Electronics                 1      834.18   \n",
      "1         2       Shoes      Apparel                 4      903.27   \n",
      "2         3      Laptop  Electronics                 2      365.51   \n",
      "3         4      Pillow   Home Goods                 5      169.17   \n",
      "4         5  Smartphone  Electronics                 5      498.51   \n",
      "\n",
      "            Order Date      City  Customer ID  \n",
      "0  2024-07-28 15:26:51   Chicago         4676  \n",
      "1  2024-01-26 13:10:16  New York         1891  \n",
      "2  2024-12-02 20:36:02   Chicago         4254  \n",
      "3  2024-04-27 02:18:27   Houston         2859  \n",
      "4  2024-03-31 06:02:42   Phoenix         5713  \n"
     ]
    }
   ],
   "source": [
    "import pandas as pd\n",
    "\n",
    "data = pd.read_csv('ecommerce_data.csv')\n",
    "\n",
    "print(data.head())"
   ]
  },
  {
   "cell_type": "markdown",
   "id": "a7ef99d6-cb57-426b-8391-2b5562591efb",
   "metadata": {},
   "source": [
    "##### b.Check for missing or null values in the dataset. Handle these appropriately. "
   ]
  },
  {
   "cell_type": "code",
   "execution_count": 2,
   "id": "c172a5a7-749d-48f7-bfbd-ad9153c36608",
   "metadata": {},
   "outputs": [
    {
     "name": "stdout",
     "output_type": "stream",
     "text": [
      "Order ID            0\n",
      "Product             0\n",
      "Category            0\n",
      "Quantity Ordered    0\n",
      "Price Each          0\n",
      "Order Date          0\n",
      "City                0\n",
      "Customer ID         0\n",
      "dtype: int64\n"
     ]
    }
   ],
   "source": [
    "print(data.isnull().sum())"
   ]
  },
  {
   "cell_type": "code",
   "execution_count": 3,
   "id": "78e370fa-5b43-4437-8a2f-832f32b87422",
   "metadata": {},
   "outputs": [
    {
     "name": "stdout",
     "output_type": "stream",
     "text": [
      "Number of rows after cleaning: 1000\n"
     ]
    }
   ],
   "source": [
    "data_cleaned = data.dropna()\n",
    "print(f\"Number of rows after cleaning: {data_cleaned.shape[0]}\")"
   ]
  },
  {
   "cell_type": "markdown",
   "id": "bce0e045-b374-4adf-a876-43e69b239a93",
   "metadata": {},
   "source": [
    "##### c.Convert columns to appropriate data types (e.g., Order Date to datetime)."
   ]
  },
  {
   "cell_type": "code",
   "execution_count": 4,
   "id": "30b1d2a9-9ee2-4a73-8255-7aa09e67771f",
   "metadata": {},
   "outputs": [
    {
     "name": "stdout",
     "output_type": "stream",
     "text": [
      "Order ID              int64\n",
      "Product              object\n",
      "Category             object\n",
      "Quantity Ordered      int64\n",
      "Price Each          float64\n",
      "Order Date           object\n",
      "City                 object\n",
      "Customer ID           int64\n",
      "dtype: object\n"
     ]
    }
   ],
   "source": [
    "print(data_cleaned.dtypes)"
   ]
  },
  {
   "cell_type": "code",
   "execution_count": 5,
   "id": "b3d57d5c-a020-48e9-b55a-7dd850137009",
   "metadata": {},
   "outputs": [],
   "source": [
    "data_cleaned['Order Date'] = pd.to_datetime(data_cleaned['Order Date'])"
   ]
  },
  {
   "cell_type": "code",
   "execution_count": 6,
   "id": "77a9084c-fa04-4235-a52c-a9e6a42c1d2b",
   "metadata": {},
   "outputs": [
    {
     "name": "stdout",
     "output_type": "stream",
     "text": [
      "Order ID                     int64\n",
      "Product                     object\n",
      "Category                    object\n",
      "Quantity Ordered             int64\n",
      "Price Each                 float64\n",
      "Order Date          datetime64[ns]\n",
      "City                        object\n",
      "Customer ID                  int64\n",
      "dtype: object\n"
     ]
    }
   ],
   "source": [
    "print(data_cleaned.dtypes)"
   ]
  },
  {
   "cell_type": "markdown",
   "id": "c2adce46-b748-4b26-8924-4b963865a255",
   "metadata": {},
   "source": [
    "##### d.Create a new column, Total Price, which is the product of Quantity Ordered and Price Each"
   ]
  },
  {
   "cell_type": "code",
   "execution_count": 7,
   "id": "846c01ee-a3d4-4dbf-adff-24aaa962a9d0",
   "metadata": {},
   "outputs": [
    {
     "name": "stdout",
     "output_type": "stream",
     "text": [
      "   Order ID     Product     Category  Quantity Ordered  Price Each  \\\n",
      "0         1      Laptop  Electronics                 1      834.18   \n",
      "1         2       Shoes      Apparel                 4      903.27   \n",
      "2         3      Laptop  Electronics                 2      365.51   \n",
      "3         4      Pillow   Home Goods                 5      169.17   \n",
      "4         5  Smartphone  Electronics                 5      498.51   \n",
      "\n",
      "           Order Date      City  Customer ID  Total Price  \n",
      "0 2024-07-28 15:26:51   Chicago         4676       834.18  \n",
      "1 2024-01-26 13:10:16  New York         1891      3613.08  \n",
      "2 2024-12-02 20:36:02   Chicago         4254       731.02  \n",
      "3 2024-04-27 02:18:27   Houston         2859       845.85  \n",
      "4 2024-03-31 06:02:42   Phoenix         5713      2492.55  \n"
     ]
    }
   ],
   "source": [
    "data_cleaned['Total Price'] = data_cleaned['Quantity Ordered'] * data_cleaned['Price Each']\n",
    "\n",
    "print(data_cleaned.head())"
   ]
  },
  {
   "cell_type": "markdown",
   "id": "36ed1357-09ff-4047-8e79-e7bdd11cb8e1",
   "metadata": {},
   "source": [
    "#### 2. Sales Analysis"
   ]
  },
  {
   "cell_type": "code",
   "execution_count": 8,
   "id": "e2ed7f62-4db7-4a30-87fe-1c9b14c4db59",
   "metadata": {},
   "outputs": [
    {
     "name": "stdout",
     "output_type": "stream",
     "text": [
      "1578547.12\n"
     ]
    }
   ],
   "source": [
    "Revenue = data_cleaned['Total Price'].sum()\n",
    "print(Revenue)"
   ]
  },
  {
   "cell_type": "markdown",
   "id": "24ea6bee-daa7-48e4-815a-d32491f68e83",
   "metadata": {},
   "source": [
    "##### a.Calculate the total revenue generated by the city."
   ]
  },
  {
   "cell_type": "code",
   "execution_count": 9,
   "id": "bcb2fdcc-bf72-43ee-85c5-62f023608b68",
   "metadata": {},
   "outputs": [
    {
     "name": "stdout",
     "output_type": "stream",
     "text": [
      "          City    Revenue\n",
      "0      Chicago  188616.21\n",
      "1       Dallas  181207.13\n",
      "2      Houston  206380.13\n",
      "3  Los Angeles  214139.13\n",
      "4     New York  199971.19\n",
      "5      Phoenix  200823.90\n",
      "6  San Antonio  183016.12\n",
      "7    San Diego  204393.31\n"
     ]
    }
   ],
   "source": [
    "data_cleaned['Revenue'] = data_cleaned['Quantity Ordered'] * data_cleaned['Price Each']\n",
    "Revenue = data_cleaned['Revenue']\n",
    "revenue_by_city = data_cleaned.groupby('City')['Revenue'].sum().reset_index()\n",
    "    \n",
    "print(revenue_by_city)"
   ]
  },
  {
   "cell_type": "markdown",
   "id": "2ed7cd12-104b-48ff-bf38-b891975a2d1c",
   "metadata": {},
   "source": [
    "##### b.Identify the top 5 products based on total sales revenue."
   ]
  },
  {
   "cell_type": "code",
   "execution_count": 10,
   "id": "288f64eb-4f46-428c-b627-60ea252fd298",
   "metadata": {},
   "outputs": [
    {
     "name": "stdout",
     "output_type": "stream",
     "text": [
      "       Product    Revenue\n",
      "12  Smartphone  126562.51\n",
      "11       Shoes  115038.76\n",
      "7        Jeans  114699.49\n",
      "9       Laptop  112218.17\n",
      "10      Pillow  111572.81\n"
     ]
    }
   ],
   "source": [
    "revenue_by_products = data_cleaned.groupby('Product')['Revenue'].sum().reset_index()\n",
    "top_5_products = revenue_by_products.sort_values(by='Revenue', ascending=False).head()\n",
    "print(top_5_products)\n"
   ]
  },
  {
   "cell_type": "markdown",
   "id": "95c73e32-090b-4e2a-bd66-b60878477ef4",
   "metadata": {},
   "source": [
    "##### c. Find the month with the highest sales and plot a graph to show monthly revenue.\n",
    "\n"
   ]
  },
  {
   "cell_type": "code",
   "execution_count": 11,
   "id": "0e524540-e702-49f8-a570-ca52dc4a5c50",
   "metadata": {},
   "outputs": [
    {
     "name": "stdout",
     "output_type": "stream",
     "text": [
      "0       7\n",
      "1       1\n",
      "2      12\n",
      "3       4\n",
      "4       3\n",
      "       ..\n",
      "995     6\n",
      "996     7\n",
      "997     6\n",
      "998    11\n",
      "999     4\n",
      "Name: Month, Length: 1000, dtype: int64\n"
     ]
    }
   ],
   "source": [
    "data_cleaned['Month'] = data_cleaned['Order Date'].dt.month\n",
    "print(data_cleaned['Month'])\n"
   ]
  },
  {
   "cell_type": "code",
   "execution_count": 12,
   "id": "3852384c-3902-4b10-b6c2-86dbcf9cee9c",
   "metadata": {},
   "outputs": [
    {
     "name": "stdout",
     "output_type": "stream",
     "text": [
      "   Month   Revenue\n",
      "6      7  174472.2\n"
     ]
    }
   ],
   "source": [
    "revenue_by_month = data_cleaned.groupby('Month')['Revenue'].sum().reset_index()\n",
    "top_month = revenue_by_month.sort_values(by='Revenue', ascending=False).head(1)\n",
    "print(top_month)"
   ]
  },
  {
   "cell_type": "code",
   "execution_count": 13,
   "id": "d5fbe24c",
   "metadata": {},
   "outputs": [
    {
     "data": {
      "image/png": "[encoded data removed]",
      "text/plain": [
       "<Figure size 640x480 with 1 Axes>"
      ]
     },
     "metadata": {},
     "output_type": "display_data"
    }
   ],
   "source": [
    "import matplotlib.pyplot as plt\n",
    "import numpy as np\n",
    "\n",
    "Month = ['top_month']\n",
    "Revenue = ('revenue_by_month')\n",
    "plt.bar(Revenue, Month)\n",
    "plt.xlabel('Revenue')\n",
    "plt.ylabel('Month')\n",
    "plt.title('Monthly_Revenue')\n",
    "plt.show()\n"
   ]
  }
 ],
 "metadata": {
  "kernelspec": {
   "display_name": "Python 3 (ipykernel)",
   "language": "python",
   "name": "python3"
  },
  "language_info": {
   "codemirror_mode": {
    "name": "ipython",
    "version": 3
   },
   "file_extension": ".py",
   "mimetype": "text/x-python",
   "name": "python",
   "nbconvert_exporter": "python",
   "pygments_lexer": "ipython3",
   "version": "3.9.13"
  }
 },
 "nbformat": 4,
 "nbformat_minor": 5
}
