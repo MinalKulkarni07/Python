{
 "cells": [
  {
   "cell_type": "markdown",
   "id": "7b2e8bd4",
   "metadata": {},
   "source": [
    "### 1.Data Cleaning And Preparation"
   ]
  },
  {
   "cell_type": "markdown",
   "id": "67852936-78b7-4aa6-ae09-8e9614e5e020",
   "metadata": {},
   "source": [
    "##### a.Load the dataset into a Pandas DataFrame and display the first five rows."
   ]
  },
  {
   "cell_type": "code",
   "execution_count": 3,
   "id": "5fe62db3-3ab9-4274-b79b-9e5a20fc45e2",
   "metadata": {},
   "outputs": [
    {
     "name": "stdout",
     "output_type": "stream",
     "text": [
      "   Order ID     Product     Category  Quantity Ordered  Price Each  \\\n",
      "0         1      Laptop  Electronics                 1      834.18   \n",
      "1         2       Shoes      Apparel                 4      903.27   \n",
      "2         3      Laptop  Electronics                 2      365.51   \n",
      "3         4      Pillow   Home Goods                 5      169.17   \n",
      "4         5  Smartphone  Electronics                 5      498.51   \n",
      "\n",
      "            Order Date      City  Customer ID  \n",
      "0  2024-07-28 15:26:51   Chicago         4676  \n",
      "1  2024-01-26 13:10:16  New York         1891  \n",
      "2  2024-12-02 20:36:02   Chicago         4254  \n",
      "3  2024-04-27 02:18:27   Houston         2859  \n",
      "4  2024-03-31 06:02:42   Phoenix         5713  \n"
     ]
    }
   ],
   "source": [
    "import pandas as pd\n",
    "\n",
    "data = pd.read_csv('ecommerce_data.csv')\n",
    "\n",
    "print(data.head())"
   ]
  },
  {
   "cell_type": "markdown",
   "id": "a7ef99d6-cb57-426b-8391-2b5562591efb",
   "metadata": {},
   "source": [
    "##### b.Check for missing or null values in the dataset. Handle these appropriately. "
   ]
  },
  {
   "cell_type": "code",
   "execution_count": 5,
   "id": "c172a5a7-749d-48f7-bfbd-ad9153c36608",
   "metadata": {},
   "outputs": [
    {
     "name": "stdout",
     "output_type": "stream",
     "text": [
      "Order ID            0\n",
      "Product             0\n",
      "Category            0\n",
      "Quantity Ordered    0\n",
      "Price Each          0\n",
      "Order Date          0\n",
      "City                0\n",
      "Customer ID         0\n",
      "dtype: int64\n"
     ]
    }
   ],
   "source": [
    "print(data.isnull().sum())"
   ]
  },
  {
   "cell_type": "code",
   "execution_count": 6,
   "id": "78e370fa-5b43-4437-8a2f-832f32b87422",
   "metadata": {},
   "outputs": [
    {
     "name": "stdout",
     "output_type": "stream",
     "text": [
      "Number of rows after cleaning: 1000\n"
     ]
    }
   ],
   "source": [
    "data_cleaned = data.dropna()\n",
    "print(f\"Number of rows after cleaning: {data_cleaned.shape[0]}\")"
   ]
  },
  {
   "cell_type": "markdown",
   "id": "bce0e045-b374-4adf-a876-43e69b239a93",
   "metadata": {},
   "source": [
    "##### c.Convert columns to appropriate data types (e.g., Order Date to datetime)."
   ]
  },
  {
   "cell_type": "code",
   "execution_count": 8,
   "id": "30b1d2a9-9ee2-4a73-8255-7aa09e67771f",
   "metadata": {},
   "outputs": [
    {
     "name": "stdout",
     "output_type": "stream",
     "text": [
      "Order ID              int64\n",
      "Product              object\n",
      "Category             object\n",
      "Quantity Ordered      int64\n",
      "Price Each          float64\n",
      "Order Date           object\n",
      "City                 object\n",
      "Customer ID           int64\n",
      "dtype: object\n"
     ]
    }
   ],
   "source": [
    "print(data_cleaned.dtypes)"
   ]
  },
  {
   "cell_type": "code",
   "execution_count": 9,
   "id": "b3d57d5c-a020-48e9-b55a-7dd850137009",
   "metadata": {},
   "outputs": [],
   "source": [
    "data_cleaned['Order Date'] = pd.to_datetime(data_cleaned['Order Date'])"
   ]
  },
  {
   "cell_type": "code",
   "execution_count": 10,
   "id": "77a9084c-fa04-4235-a52c-a9e6a42c1d2b",
   "metadata": {},
   "outputs": [
    {
     "name": "stdout",
     "output_type": "stream",
     "text": [
      "Order ID                     int64\n",
      "Product                     object\n",
      "Category                    object\n",
      "Quantity Ordered             int64\n",
      "Price Each                 float64\n",
      "Order Date          datetime64[ns]\n",
      "City                        object\n",
      "Customer ID                  int64\n",
      "dtype: object\n"
     ]
    }
   ],
   "source": [
    "print(data_cleaned.dtypes)"
   ]
  },
  {
   "cell_type": "markdown",
   "id": "c2adce46-b748-4b26-8924-4b963865a255",
   "metadata": {},
   "source": [
    "##### d.Create a new column, Total Price, which is the product of Quantity Ordered and Price Each"
   ]
  },
  {
   "cell_type": "code",
   "execution_count": 12,
   "id": "846c01ee-a3d4-4dbf-adff-24aaa962a9d0",
   "metadata": {},
   "outputs": [
    {
     "name": "stdout",
     "output_type": "stream",
     "text": [
      "   Order ID     Product     Category  Quantity Ordered  Price Each  \\\n",
      "0         1      Laptop  Electronics                 1      834.18   \n",
      "1         2       Shoes      Apparel                 4      903.27   \n",
      "2         3      Laptop  Electronics                 2      365.51   \n",
      "3         4      Pillow   Home Goods                 5      169.17   \n",
      "4         5  Smartphone  Electronics                 5      498.51   \n",
      "\n",
      "           Order Date      City  Customer ID  Total Price  \n",
      "0 2024-07-28 15:26:51   Chicago         4676       834.18  \n",
      "1 2024-01-26 13:10:16  New York         1891      3613.08  \n",
      "2 2024-12-02 20:36:02   Chicago         4254       731.02  \n",
      "3 2024-04-27 02:18:27   Houston         2859       845.85  \n",
      "4 2024-03-31 06:02:42   Phoenix         5713      2492.55  \n"
     ]
    }
   ],
   "source": [
    "data_cleaned['Total Price'] = data_cleaned['Quantity Ordered'] * data_cleaned['Price Each']\n",
    "\n",
    "print(data_cleaned.head())"
   ]
  },
  {
   "cell_type": "markdown",
   "id": "36ed1357-09ff-4047-8e79-e7bdd11cb8e1",
   "metadata": {},
   "source": [
    "#### 2. Sales Analysis"
   ]
  },
  {
   "cell_type": "code",
   "execution_count": 14,
   "id": "e2ed7f62-4db7-4a30-87fe-1c9b14c4db59",
   "metadata": {},
   "outputs": [
    {
     "name": "stdout",
     "output_type": "stream",
     "text": [
      "1578547.12\n"
     ]
    }
   ],
   "source": [
    "Revenue = data_cleaned['Total Price'].sum()\n",
    "print(Revenue)"
   ]
  },
  {
   "cell_type": "markdown",
   "id": "24ea6bee-daa7-48e4-815a-d32491f68e83",
   "metadata": {},
   "source": [
    "##### a.Calculate the total revenue generated by the city."
   ]
  },
  {
   "cell_type": "code",
   "execution_count": 16,
   "id": "bcb2fdcc-bf72-43ee-85c5-62f023608b68",
   "metadata": {},
   "outputs": [
    {
     "name": "stdout",
     "output_type": "stream",
     "text": [
      "          City    Revenue\n",
      "0      Chicago  188616.21\n",
      "1       Dallas  181207.13\n",
      "2      Houston  206380.13\n",
      "3  Los Angeles  214139.13\n",
      "4     New York  199971.19\n",
      "5      Phoenix  200823.90\n",
      "6  San Antonio  183016.12\n",
      "7    San Diego  204393.31\n"
     ]
    }
   ],
   "source": [
    "data_cleaned['Revenue'] = data_cleaned['Quantity Ordered'] * data_cleaned['Price Each']\n",
    "Revenue = data_cleaned['Revenue']\n",
    "revenue_by_city = data_cleaned.groupby('City')['Revenue'].sum().reset_index()\n",
    "    \n",
    "print(revenue_by_city)"
   ]
  },
  {
   "cell_type": "markdown",
   "id": "2ed7cd12-104b-48ff-bf38-b891975a2d1c",
   "metadata": {},
   "source": [
    "##### b.Identify the top 5 products based on total sales revenue."
   ]
  },
  {
   "cell_type": "code",
   "execution_count": 18,
   "id": "288f64eb-4f46-428c-b627-60ea252fd298",
   "metadata": {},
   "outputs": [
    {
     "name": "stdout",
     "output_type": "stream",
     "text": [
      "       Product    Revenue\n",
      "12  Smartphone  126562.51\n",
      "11       Shoes  115038.76\n",
      "7        Jeans  114699.49\n",
      "9       Laptop  112218.17\n",
      "10      Pillow  111572.81\n"
     ]
    }
   ],
   "source": [
    "revenue_by_products = data_cleaned.groupby('Product')['Revenue'].sum().reset_index()\n",
    "top_5_products = revenue_by_products.sort_values(by='Revenue', ascending=False).head()\n",
    "print(top_5_products)\n"
   ]
  },
  {
   "cell_type": "markdown",
   "id": "95c73e32-090b-4e2a-bd66-b60878477ef4",
   "metadata": {},
   "source": [
    "##### c. Find the month with the highest sales and plot a graph to show monthly revenue.\n",
    "\n"
   ]
  },
  {
   "cell_type": "code",
   "execution_count": 20,
   "id": "0e524540-e702-49f8-a570-ca52dc4a5c50",
   "metadata": {},
   "outputs": [
    {
     "name": "stdout",
     "output_type": "stream",
     "text": [
      "0       7\n",
      "1       1\n",
      "2      12\n",
      "3       4\n",
      "4       3\n",
      "       ..\n",
      "995     6\n",
      "996     7\n",
      "997     6\n",
      "998    11\n",
      "999     4\n",
      "Name: Month, Length: 1000, dtype: int32\n"
     ]
    }
   ],
   "source": [
    "data_cleaned['Month'] = data_cleaned['Order Date'].dt.month\n",
    "print(data_cleaned['Month'])\n"
   ]
  },
  {
   "cell_type": "code",
   "execution_count": 21,
   "id": "3852384c-3902-4b10-b6c2-86dbcf9cee9c",
   "metadata": {},
   "outputs": [
    {
     "name": "stdout",
     "output_type": "stream",
     "text": [
      "   Month   Revenue\n",
      "6      7  174472.2\n"
     ]
    }
   ],
   "source": [
    "revenue_by_month = data_cleaned.groupby('Month')['Revenue'].sum().reset_index()\n",
    "top_month = revenue_by_month.sort_values(by='Revenue', ascending=False).head(1)\n",
    "print(top_month)"
   ]
  },
  {
   "cell_type": "code",
   "execution_count": 71,
   "id": "d5fbe24c",
   "metadata": {},
   "outputs": [
    {
     "data": {
      "image/png": "[encoded data removed]",
      "text/plain": [
       "<Figure size 640x480 with 1 Axes>"
      ]
     },
     "metadata": {},
     "output_type": "display_data"
    }
   ],
   "source": [
    "import matplotlib.pyplot as plt\n",
    "import numpy as np\n",
    "\n",
    "plt.plot(revenue_by_month['Month'],revenue_by_month['Revenue'], color='forestgreen')\n",
    "plt.xlabel('Month')\n",
    "plt.ylabel('Revenue')\n",
    "plt.title('Monthly_Revenue')\n",
    "plt.show()\n"
   ]
  },
  {
   "cell_type": "markdown",
   "id": "c8e332ee-b5f8-433c-bdd6-df448ab1dca8",
   "metadata": {},
   "source": [
    "### 3.Category and City Analysis\n",
    "#### a.Group the data by Category and calculate the total revenue for each category."
   ]
  },
  {
   "cell_type": "code",
   "execution_count": 24,
   "id": "e5de8213-a35f-4979-afc2-6a85e77bbc42",
   "metadata": {},
   "outputs": [
    {
     "name": "stdout",
     "output_type": "stream",
     "text": [
      "      Category    Revenue\n",
      "0      Apparel  546446.34\n",
      "1  Electronics  523641.32\n",
      "2   Home Goods  508459.46\n"
     ]
    }
   ],
   "source": [
    "group_by_category = data_cleaned.groupby('Category')\n",
    "revenue_by_category = group_by_category['Revenue'].sum().reset_index()\n",
    "print(revenue_by_category)\n"
   ]
  },
  {
   "cell_type": "markdown",
   "id": "c13baa52-8f80-45a4-bcb1-7896f49b8dd2",
   "metadata": {},
   "source": [
    "#### b.Find the city with the highest number of orders."
   ]
  },
  {
   "cell_type": "code",
   "execution_count": 26,
   "id": "cfc50628-cbf9-4126-95e1-410a808ded39",
   "metadata": {},
   "outputs": [
    {
     "name": "stdout",
     "output_type": "stream",
     "text": [
      "          City  Quantity Ordered\n",
      "2      Houston               401\n",
      "5      Phoenix               400\n",
      "3  Los Angeles               398\n",
      "7    San Diego               384\n",
      "4     New York               376\n",
      "\n",
      "--------------------\n",
      "City with the highest number of orders is:\n",
      "      City  Quantity Ordered\n",
      "2  Houston               401\n"
     ]
    }
   ],
   "source": [
    "group_by_city = data_cleaned.groupby('City')['Quantity Ordered'].sum().reset_index()\n",
    "highest_orders_by_city = group_by_city.sort_values(by='Quantity Ordered', ascending=False).head()\n",
    "print(highest_orders_by_city)\n",
    "print(\"\\n--------------------\")\n",
    "print(\"City with the highest number of orders is:\")\n",
    "print( highest_orders_by_city.head(1))"
   ]
  },
  {
   "cell_type": "markdown",
   "id": "9ecc0362-e43b-45fd-b467-6887d5f74541",
   "metadata": {},
   "source": [
    "#### c.Plot a bar chart to visualize revenue across different cities."
   ]
  },
  {
   "cell_type": "code",
   "execution_count": 69,
   "id": "d3f69243-4d72-4c29-a148-7615a5f1d896",
   "metadata": {},
   "outputs": [
    {
     "data": {
      "image/png": "[encoded data removed]",
      "text/plain": [
       "<Figure size 640x480 with 1 Axes>"
      ]
     },
     "metadata": {},
     "output_type": "display_data"
    }
   ],
   "source": [
    "plt.bar(revenue_by_city['City'], revenue_by_city['Revenue'], color='brown')\n",
    "plt.title(\"Revenue Across Different Cities\")\n",
    "plt.xlabel('City')\n",
    "plt.ylabel('Revenue')\n",
    "plt.xticks(rotation=45)\n",
    "plt.show()"
   ]
  },
  {
   "cell_type": "markdown",
   "id": "d364c45d-e7dd-4efb-b25d-5f972e627092",
   "metadata": {},
   "source": [
    "### 4.Customer Behavior Analysis\n",
    "#### a.Identify the customer who spent the most money and calculate their total spending."
   ]
  },
  {
   "cell_type": "code",
   "execution_count": 30,
   "id": "c4a315f0-da2c-4d7d-a5c9-d79e4b42d72d",
   "metadata": {},
   "outputs": [
    {
     "name": "stdout",
     "output_type": "stream",
     "text": [
      "     Customer ID  Revenue\n",
      "384         4626  8100.03\n",
      "743         7838  6739.26\n",
      "742         7834  6605.41\n",
      "920         9758  6595.04\n",
      "676         7196  6412.63\n",
      "\n",
      "----------------\n",
      "Customer who spent most money is:\n",
      "     Customer ID  Revenue\n",
      "384         4626  8100.03\n"
     ]
    }
   ],
   "source": [
    "revenue_by_customer = data_cleaned.groupby('Customer ID')['Revenue'].sum().reset_index()\n",
    "top_customer = revenue_by_customer.sort_values(by='Revenue', ascending=False).head()\n",
    "print(top_customer)\n",
    "print(\"\\n----------------\")\n",
    "print(\"Customer who spent most money is:\")\n",
    "print(top_customer.head(1))"
   ]
  },
  {
   "cell_type": "markdown",
   "id": "a68f5ebe-40d7-431b-8c95-2f7e76bae0b7",
   "metadata": {},
   "source": [
    "#### b.Find the average order value (AOV) for all customers."
   ]
  },
  {
   "cell_type": "code",
   "execution_count": 32,
   "id": "858a00a9-d1a1-4258-995d-c72d83ef68ed",
   "metadata": {},
   "outputs": [
    {
     "name": "stdout",
     "output_type": "stream",
     "text": [
      "Total Revenue : 1578547.12\n",
      "Total Orders : 3042\n",
      "Average Order Value = 518.92\n"
     ]
    }
   ],
   "source": [
    "Total_Revenue = data_cleaned['Revenue'].sum()\n",
    "Total_Orders = data_cleaned['Quantity Ordered'].sum()\n",
    "average_order_value = Total_Revenue/Total_Orders\n",
    "print(\"Total Revenue :\", Total_Revenue)\n",
    "print(\"Total Orders :\", Total_Orders)\n",
    "print(\"Average Order Value =\",round(average_order_value, 2))"
   ]
  },
  {
   "cell_type": "markdown",
   "id": "01ce9334-9b4b-43f6-9fa8-c7aa90b12d3a",
   "metadata": {},
   "source": [
    "#### c.Determine the product most frequently purchased by customers."
   ]
  },
  {
   "cell_type": "code",
   "execution_count": 34,
   "id": "599734bc-0378-4a13-8572-926ec30aab96",
   "metadata": {},
   "outputs": [
    {
     "name": "stdout",
     "output_type": "stream",
     "text": [
      "The Product most frequently purchased by customer is:\n",
      "       Product  Quantity Ordered\n",
      "12  Smartphone               247\n"
     ]
    }
   ],
   "source": [
    "product_purchase = data_cleaned.groupby('Product')['Quantity Ordered'].sum().reset_index()\n",
    "frequently_purchased_product = product_purchase.sort_values(by='Quantity Ordered', ascending=False).head(1)\n",
    "print(\"The Product most frequently purchased by customer is:\")\n",
    "print(frequently_purchased_product)"
   ]
  },
  {
   "cell_type": "markdown",
   "id": "ac2a1fcd-7705-420e-990b-e6add75349c8",
   "metadata": {},
   "source": [
    "### 5.Bonus (Optional)\n",
    "#### a.Extract the hour from the Order Date column and determine the hour with the highest sales."
   ]
  },
  {
   "cell_type": "code",
   "execution_count": 36,
   "id": "13e1fdee-4d21-47c3-95af-9c6974420be0",
   "metadata": {},
   "outputs": [
    {
     "name": "stdout",
     "output_type": "stream",
     "text": [
      "    Hour  Revenue\n",
      "15    15  99815.5\n"
     ]
    }
   ],
   "source": [
    "data_cleaned['Hour'] = data_cleaned['Order Date'].dt.hour\n",
    "highest_sales_hour = data_cleaned.groupby('Hour')['Revenue'].sum().reset_index()\n",
    "hour_with_highest_sales = highest_sales_hour.sort_values(by='Revenue', ascending=False).head(1)\n",
    "print(hour_with_highest_sales)"
   ]
  },
  {
   "cell_type": "code",
   "execution_count": 65,
   "id": "7731a3a7-948b-4c1d-92b5-71f84ea5c5f5",
   "metadata": {},
   "outputs": [
    {
     "data": {
      "image/png": "[encoded data removed]",
      "text/plain": [
       "<Figure size 640x480 with 1 Axes>"
      ]
     },
     "metadata": {},
     "output_type": "display_data"
    }
   ],
   "source": [
    "plt.bar(highest_sales_hour['Hour'], highest_sales_hour['Revenue'], color='tomato')\n",
    "plt.title(\"Distribution Of Sales By Hour\")\n",
    "plt.xlabel('Hour')\n",
    "plt.ylabel('Revenue')\n",
    "plt.show()"
   ]
  }
 ],
 "metadata": {
  "kernelspec": {
   "display_name": "Python [conda env:base] *",
   "language": "python",
   "name": "conda-base-py"
  },
  "language_info": {
   "codemirror_mode": {
    "name": "ipython",
    "version": 3
   },
   "file_extension": ".py",
   "mimetype": "text/x-python",
   "name": "python",
   "nbconvert_exporter": "python",
   "pygments_lexer": "ipython3",
   "version": "3.12.7"
  }
 },
 "nbformat": 4,
 "nbformat_minor": 5
}
