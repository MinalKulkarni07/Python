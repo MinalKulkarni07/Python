{
 "cells": [
  {
   "cell_type": "markdown",
   "id": "a6374bab-43ff-412c-9a71-e483ad18122e",
   "metadata": {},
   "source": [
    "### Home Loan EMI Calculator"
   ]
  },
  {
   "cell_type": "code",
   "execution_count": null,
   "id": "4cb7dd1d-556b-41fd-ac9e-eb33ecac8cb2",
   "metadata": {},
   "outputs": [],
   "source": [
    "# -- Input Section \n",
    "# Loan Amount : =\n",
    "# ₹ 74,51,512\n",
    "# Tenure (Years) := \n",
    "# 15\n",
    "# Interest Rate (% P.A.) =\n",
    "# 5.19%\n",
    "\n",
    "# -- output Section\n",
    "# Monthly Home Loan EMI\n",
    "# ₹59,666\n",
    "# View Details\n",
    "# Principal Amount\n",
    "# ₹74,51,512\n",
    "# Interest Amount\n",
    "# ₹32,88,408\n",
    "# Total Amount Payable\n",
    "# ₹1,07,39,920\n"
   ]
  },
  {
   "cell_type": "code",
   "execution_count": 45,
   "id": "be648b83-abef-4711-9096-731ca4dbcfcd",
   "metadata": {},
   "outputs": [],
   "source": [
    "# Convert to Indian numbering system format (lakh, crore)\n",
    "import locale\n",
    "locale.setlocale(locale.LC_ALL, 'en_IN.UTF-8') # Set locale to Indian format\n",
    "\n",
    "def format_inr(amount):\n",
    "    return \"₹\" + locale.format_string(\"%d\", amount, grouping=True) # Function to format currency in INR"
   ]
  },
  {
   "cell_type": "code",
   "execution_count": 51,
   "id": "f7f02b83-39fb-4a94-9e47-0e002a6c9c8b",
   "metadata": {},
   "outputs": [
    {
     "name": "stdin",
     "output_type": "stream",
     "text": [
      "Enter Loan Amount:  7451512\n",
      "Enter Tenure(Years):  15\n",
      "Enter Interest Rate(% P.A.) 5.19\n"
     ]
    },
    {
     "name": "stdout",
     "output_type": "stream",
     "text": [
      "\n",
      "----------DETAILS------------\n",
      "\n",
      "Principal Amount: \n",
      "₹74,51,512\n",
      "Tenure(Years):\n",
      "15\n",
      "Interest Rate(% P.A.): \n",
      "5.19%\n",
      "Monthly Home Loan EMI: \n",
      "₹59,666\n",
      "Interest Amount: \n",
      "₹32,88,408\n",
      "Total Amount Payable:\n",
      "₹1,07,39,920\n",
      "\n"
     ]
    }
   ],
   "source": [
    "loan_dict = {\n",
    "    \"Loan_Amount\": int(input(\"Enter Loan Amount: \")),\n",
    "    \"Tenure\": int(input(\"Enter Tenure(Years): \")),\n",
    "    \"Interest_Rate\": float(input(\"Enter Interest Rate(% P.A.)\"))\n",
    "}\n",
    "    \n",
    "\n",
    "def emi_calculation(Loan_Amount,Tenure,Interest_Rate):\n",
    "    tenure_in_months = (Tenure * 12)\n",
    "    interest_rate_PM = (Interest_Rate/100)/12\n",
    "    monthly_homeloan_emi = (Loan_Amount*interest_rate_PM*(1+interest_rate_PM)**tenure_in_months)/(((1+interest_rate_PM)**tenure_in_months)-1)\n",
    "    total_amount = (tenure_in_months * monthly_homeloan_emi)\n",
    "    interest_amount = (total_amount - Loan_Amount)\n",
    "    return {\n",
    "        \"Loan_Amount\": round(Loan_Amount),\n",
    "        \"Tenure(Years)\": (Tenure),\n",
    "        \"Interest Rate(% P.A.)\": (Interest_Rate),\n",
    "        \"Monthly Home Loan EMI\": round(monthly_homeloan_emi),\n",
    "        \"Interest_Amount\": round(interest_amount),\n",
    "        \"Total_Amount_Payable\": round(total_amount)\n",
    "    }\n",
    "    \n",
    "Calculate_EMI = emi_calculation(loan_dict[\"Loan_Amount\"],loan_dict[\"Tenure\"],loan_dict[\"Interest_Rate\"])\n",
    "\n",
    "print(\"\\n----------DETAILS------------\")\n",
    "print(f\"\"\"\n",
    "Principal Amount: \n",
    "{format_inr(Calculate_EMI[\"Loan_Amount\"])}\n",
    "Tenure(Years):\n",
    "{Calculate_EMI[\"Tenure(Years)\"]}\n",
    "Interest Rate(% P.A.): \n",
    "{Calculate_EMI[\"Interest Rate(% P.A.)\"]}%\n",
    "Monthly Home Loan EMI: \n",
    "{format_inr(Calculate_EMI[\"Monthly Home Loan EMI\"])}\n",
    "Interest Amount: \n",
    "{format_inr(Calculate_EMI[\"Interest_Amount\"])}\n",
    "Total Amount Payable:\n",
    "{format_inr(Calculate_EMI[\"Total_Amount_Payable\"])}\n",
    "\"\"\")\n"
   ]
  }
 ],
 "metadata": {
  "kernelspec": {
   "display_name": "Python [conda env:base] *",
   "language": "python",
   "name": "conda-base-py"
  },
  "language_info": {
   "codemirror_mode": {
    "name": "ipython",
    "version": 3
   },
   "file_extension": ".py",
   "mimetype": "text/x-python",
   "name": "python",
   "nbconvert_exporter": "python",
   "pygments_lexer": "ipython3",
   "version": "3.12.7"
  }
 },
 "nbformat": 4,
 "nbformat_minor": 5
}
