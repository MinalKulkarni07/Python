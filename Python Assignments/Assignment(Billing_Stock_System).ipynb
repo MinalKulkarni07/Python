{
 "cells": [
  {
   "cell_type": "markdown",
   "id": "41fb4915-8686-4a5d-9fa1-856a75b34922",
   "metadata": {},
   "source": [
    "### Billing Stock System"
   ]
  },
  {
   "cell_type": "code",
   "execution_count": 2,
   "id": "2bf47713-3b69-420e-a0d7-14cf3bf6ed58",
   "metadata": {},
   "outputs": [],
   "source": [
    "# --- input Section ---\n",
    "# Enter SKU ( Unique Number ) : 101\n",
    "# Enter Product Name : Books\n",
    "# Enter Product QT : 20\n",
    "# Enter Single Book Price : 120/-\n",
    "\n",
    "# Do you Want Add more [Y/N]\n",
    "# Y\n",
    "# Enter SKU ( Unique Number ) : 102\n",
    "# Enter Product Name : toy\n",
    "# Enter Product QT : 5\n",
    "# Enter Single Book Price : 560/-\n",
    "\n",
    "# Do you Want Add more [Y/N]\n",
    "# Y\n",
    "# Enter SKU ( Unique Number ) : 103\n",
    "# Enter Product Name : Samosa\n",
    "# Enter Product QT : 250\n",
    "# Enter Single Book Price : 20/-\n",
    "\n",
    "# Do you Want Add more [Y/N]\n",
    "# N\n",
    "# --- Output Section---------\n",
    "# ------  Search Item ------\n",
    "# Enter Product Item Form SKU No. 103\n",
    "# Total Cost : 5000/-\n",
    "# Product Name : Samosa\n",
    "# QT : 250 \n",
    "# Single Price : 20/-\n"
   ]
  },
  {
   "cell_type": "code",
   "execution_count": 20,
   "id": "8640b207-bed6-4073-9c85-7124293d7361",
   "metadata": {},
   "outputs": [
    {
     "name": "stdin",
     "output_type": "stream",
     "text": [
      "Enter SKU (Unique Number) : 101\n",
      "Enter Product Name : Books\n",
      "Enter Product Quantity : 20\n",
      "Enter Product Price : 120\n",
      "Do you want to add more products [Y/N]: Y\n",
      "Enter SKU (Unique Number) : 102\n",
      "Enter Product Name : Toys\n",
      "Enter Product Quantity : 5\n",
      "Enter Product Price : 560\n",
      "Do you want to add more products [Y/N]: Y\n",
      "Enter SKU (Unique Number) : 103\n",
      "Enter Product Name : Samosa\n",
      "Enter Product Quantity : 20\n",
      "Enter Product Price : 250\n",
      "Do you want to add more products [Y/N]: N\n"
     ]
    },
    {
     "name": "stdout",
     "output_type": "stream",
     "text": [
      "\n",
      "--------- Search Item -------------\n"
     ]
    },
    {
     "name": "stdin",
     "output_type": "stream",
     "text": [
      "Enter product item from SKU No. 103\n"
     ]
    },
    {
     "name": "stdout",
     "output_type": "stream",
     "text": [
      "Product Name = Samosa\n",
      "Quantity = 20\n",
      "Product Price = 250\n",
      "Total_Cost = 5000/-\n"
     ]
    }
   ],
   "source": [
    "# Billing Stock System \n",
    "\n",
    "stock_dict = {}\n",
    "\n",
    "count = 0\n",
    "while True:\n",
    "    SKU = int(input(f\"Enter SKU (Unique Number) :\"))\n",
    "    Product = input(\"Enter Product Name :\")\n",
    "    Quantity = int(input(\"Enter Product Quantity :\"))\n",
    "    Price = int(input(\"Enter Product Price :\"))\n",
    "    stock_dict[SKU] = {\"Product\":Product,\"Quantity\":Quantity,\"Price\":Price}\n",
    "    Add_More = input(\"Do you want to add more products [Y/N]:\")\n",
    "    if Add_More == \"Y\":\n",
    "        count += 1\n",
    "    elif Add_More == \"N\":\n",
    "        break\n",
    "\n",
    "def total(stock_dict):\n",
    "    return sum(items[\"Price\"] * items[\"Quantity\"] for items in stock_dict.values())\n",
    "Total_Cost = total(stock_dict) \n",
    "\n",
    "print(\"\\n--------- Search Item -------------\")\n",
    "\n",
    "Search_Item = int(input(f\"Enter product item from SKU No.\"))\n",
    "if Search_Item in stock_dict:\n",
    "    item = stock_dict[Search_Item]\n",
    "    print(f\"Product Name = {Product}\")\n",
    "    print(f\"Quantity = {Quantity}\")\n",
    "    print(f\"Product Price = {Price}\")\n",
    "    print(f\"Total_Cost = {item[\"Price\"] * item[\"Quantity\"]}/-\")\n",
    "else:\n",
    "    print(\"Product not found\")"
   ]
  }
 ],
 "metadata": {
  "kernelspec": {
   "display_name": "Python [conda env:base] *",
   "language": "python",
   "name": "conda-base-py"
  },
  "language_info": {
   "codemirror_mode": {
    "name": "ipython",
    "version": 3
   },
   "file_extension": ".py",
   "mimetype": "text/x-python",
   "name": "python",
   "nbconvert_exporter": "python",
   "pygments_lexer": "ipython3",
   "version": "3.12.7"
  }
 },
 "nbformat": 4,
 "nbformat_minor": 5
}
